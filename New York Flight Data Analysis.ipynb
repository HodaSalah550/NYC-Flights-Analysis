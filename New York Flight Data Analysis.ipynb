{
 "cells": [
  {
   "cell_type": "markdown",
   "metadata": {},
   "source": [
    "This data set uses the NYCFlights13 dataset. We perform exploratory analysis, followed by answering some of the most interesting questions, identifying insights about flight data, visualizing the patterns & formulating & analysing research questions by comparing flight data with weather data."
   ]
  },
  {
   "cell_type": "code",
   "execution_count": 1,
   "metadata": {},
   "outputs": [
    {
     "name": "stdout",
     "output_type": "stream",
     "text": [
      "IPython version: 7.29.0 (need at least 1.0)\n",
      "Numpy version: 1.20.3 (need at least 1.7.1)\n",
      "SciPy version:1.7.1 (need at least 0.12.0)\n",
      "Pandas version:1.3.4 (need at least 0.11.0)\n",
      "Mapltolib version:3.4.3 (need at least 1.2.1)\n",
      "Scikit-Learn version:0.24.2 (need at least 0.13.1)\n"
     ]
    }
   ],
   "source": [
    "import IPython\n",
    "print (\"IPython version: \"+IPython.__version__+\" (need at least 1.0)\")\n",
    "# Numpy is a library for working with Arrays\n",
    "import numpy as np\n",
    "print (\"Numpy version: \"+np.__version__+\" (need at least 1.7.1)\" )\n",
    "# SciPy implements many different numerical algorithms\n",
    "import scipy as sp\n",
    "print (\"SciPy version:\"+sp.__version__+\" (need at least 0.12.0)\")\n",
    "# Pandas makes working with data tables easier\n",
    "import pandas as pd\n",
    "print (\"Pandas version:\"+pd.__version__+\" (need at least 0.11.0)\")\n",
    "# Module for plotting\n",
    "import matplotlib\n",
    "print (\"Mapltolib version:\"+matplotlib.__version__+\" (need at least 1.2.1)\")\n",
    "# SciKit Learn implements several Machine Learning algorithms\n",
    "import sklearn\n",
    "print (\"Scikit-Learn version:\"+ sklearn.__version__+\" (need at least 0.13.1)\")"
   ]
  },
  {
   "cell_type": "code",
   "execution_count": 2,
   "metadata": {},
   "outputs": [],
   "source": [
    "import pandas as pd\n",
    "import numpy as np\n",
    "import matplotlib.pyplot as plt"
   ]
  },
  {
   "cell_type": "code",
   "execution_count": 3,
   "metadata": {},
   "outputs": [],
   "source": [
    "flights_df= pd.read_csv('flights.csv')"
   ]
  },
  {
   "cell_type": "code",
   "execution_count": 4,
   "metadata": {},
   "outputs": [
    {
     "name": "stdout",
     "output_type": "stream",
     "text": [
      "(336776, 17)\n",
      "Index(['Unnamed: 0', 'year', 'month', 'day', 'dep_time', 'dep_delay',\n",
      "       'arr_time', 'arr_delay', 'carrier', 'tailnum', 'flight', 'origin',\n",
      "       'dest', 'air_time', 'distance', 'hour', 'minute'],\n",
      "      dtype='object')\n",
      "Unnamed: 0      int64\n",
      "year            int64\n",
      "month           int64\n",
      "day             int64\n",
      "dep_time      float64\n",
      "dep_delay     float64\n",
      "arr_time      float64\n",
      "arr_delay     float64\n",
      "carrier        object\n",
      "tailnum        object\n",
      "flight          int64\n",
      "origin         object\n",
      "dest           object\n",
      "air_time      float64\n",
      "distance        int64\n",
      "hour          float64\n",
      "minute        float64\n",
      "dtype: object\n"
     ]
    }
   ],
   "source": [
    "print(flights_df.shape)\n",
    "print(flights_df.columns)\n",
    "print(flights_df.dtypes)"
   ]
  },
  {
   "cell_type": "code",
   "execution_count": 5,
   "metadata": {},
   "outputs": [
    {
     "data": {
      "text/plain": [
       "array(['IAH', 'MIA', 'BQN', 'ATL', 'ORD', 'FLL', 'IAD', 'MCO', 'PBI',\n",
       "       'TPA', 'LAX', 'SFO', 'DFW', 'BOS', 'LAS', 'MSP', 'DTW', 'RSW',\n",
       "       'SJU', 'PHX', 'BWI', 'CLT', 'BUF', 'DEN', 'SNA', 'MSY', 'SLC',\n",
       "       'XNA', 'MKE', 'SEA', 'ROC', 'SYR', 'SRQ', 'RDU', 'CMH', 'JAX',\n",
       "       'CHS', 'MEM', 'PIT', 'SAN', 'DCA', 'CLE', 'STL', 'MYR', 'JAC',\n",
       "       'MDW', 'HNL', 'BNA', 'AUS', 'BTV', 'PHL', 'STT', 'EGE', 'AVL',\n",
       "       'PWM', 'IND', 'SAV', 'CAK', 'HOU', 'LGB', 'DAY', 'ALB', 'BDL',\n",
       "       'MHT', 'MSN', 'GSO', 'CVG', 'BUR', 'RIC', 'GSP', 'GRR', 'MCI',\n",
       "       'ORF', 'SAT', 'SDF', 'PDX', 'SJC', 'OMA', 'CRW', 'OAK', 'SMF',\n",
       "       'TUL', 'TYS', 'OKC', 'PVD', 'DSM', 'PSE', 'BHM', 'CAE', 'HDN',\n",
       "       'BZN', 'MTJ', 'EYW', 'PSP', 'ACK', 'BGR', 'ABQ', 'ILM', 'MVY',\n",
       "       'SBN', 'LEX', 'CHO', 'TVC', 'ANC', 'LGA'], dtype=object)"
      ]
     },
     "execution_count": 5,
     "metadata": {},
     "output_type": "execute_result"
    }
   ],
   "source": [
    "flights_df.dest.unique()"
   ]
  },
  {
   "cell_type": "code",
   "execution_count": 6,
   "metadata": {},
   "outputs": [
    {
     "data": {
      "text/html": [
       "<div>\n",
       "<style scoped>\n",
       "    .dataframe tbody tr th:only-of-type {\n",
       "        vertical-align: middle;\n",
       "    }\n",
       "\n",
       "    .dataframe tbody tr th {\n",
       "        vertical-align: top;\n",
       "    }\n",
       "\n",
       "    .dataframe thead th {\n",
       "        text-align: right;\n",
       "    }\n",
       "</style>\n",
       "<table border=\"1\" class=\"dataframe\">\n",
       "  <thead>\n",
       "    <tr style=\"text-align: right;\">\n",
       "      <th></th>\n",
       "      <th>Unnamed: 0</th>\n",
       "      <th>year</th>\n",
       "      <th>month</th>\n",
       "      <th>day</th>\n",
       "      <th>dep_time</th>\n",
       "      <th>dep_delay</th>\n",
       "      <th>arr_time</th>\n",
       "      <th>arr_delay</th>\n",
       "      <th>carrier</th>\n",
       "      <th>tailnum</th>\n",
       "      <th>flight</th>\n",
       "      <th>origin</th>\n",
       "      <th>dest</th>\n",
       "      <th>air_time</th>\n",
       "      <th>distance</th>\n",
       "      <th>hour</th>\n",
       "      <th>minute</th>\n",
       "    </tr>\n",
       "  </thead>\n",
       "  <tbody>\n",
       "    <tr>\n",
       "      <th>0</th>\n",
       "      <td>1</td>\n",
       "      <td>2013</td>\n",
       "      <td>1</td>\n",
       "      <td>1</td>\n",
       "      <td>517.0</td>\n",
       "      <td>2.0</td>\n",
       "      <td>830.0</td>\n",
       "      <td>11.0</td>\n",
       "      <td>UA</td>\n",
       "      <td>N14228</td>\n",
       "      <td>1545</td>\n",
       "      <td>EWR</td>\n",
       "      <td>IAH</td>\n",
       "      <td>227.0</td>\n",
       "      <td>1400</td>\n",
       "      <td>5.0</td>\n",
       "      <td>17.0</td>\n",
       "    </tr>\n",
       "    <tr>\n",
       "      <th>1</th>\n",
       "      <td>2</td>\n",
       "      <td>2013</td>\n",
       "      <td>1</td>\n",
       "      <td>1</td>\n",
       "      <td>533.0</td>\n",
       "      <td>4.0</td>\n",
       "      <td>850.0</td>\n",
       "      <td>20.0</td>\n",
       "      <td>UA</td>\n",
       "      <td>N24211</td>\n",
       "      <td>1714</td>\n",
       "      <td>LGA</td>\n",
       "      <td>IAH</td>\n",
       "      <td>227.0</td>\n",
       "      <td>1416</td>\n",
       "      <td>5.0</td>\n",
       "      <td>33.0</td>\n",
       "    </tr>\n",
       "    <tr>\n",
       "      <th>2</th>\n",
       "      <td>3</td>\n",
       "      <td>2013</td>\n",
       "      <td>1</td>\n",
       "      <td>1</td>\n",
       "      <td>542.0</td>\n",
       "      <td>2.0</td>\n",
       "      <td>923.0</td>\n",
       "      <td>33.0</td>\n",
       "      <td>AA</td>\n",
       "      <td>N619AA</td>\n",
       "      <td>1141</td>\n",
       "      <td>JFK</td>\n",
       "      <td>MIA</td>\n",
       "      <td>160.0</td>\n",
       "      <td>1089</td>\n",
       "      <td>5.0</td>\n",
       "      <td>42.0</td>\n",
       "    </tr>\n",
       "    <tr>\n",
       "      <th>3</th>\n",
       "      <td>4</td>\n",
       "      <td>2013</td>\n",
       "      <td>1</td>\n",
       "      <td>1</td>\n",
       "      <td>544.0</td>\n",
       "      <td>-1.0</td>\n",
       "      <td>1004.0</td>\n",
       "      <td>-18.0</td>\n",
       "      <td>B6</td>\n",
       "      <td>N804JB</td>\n",
       "      <td>725</td>\n",
       "      <td>JFK</td>\n",
       "      <td>BQN</td>\n",
       "      <td>183.0</td>\n",
       "      <td>1576</td>\n",
       "      <td>5.0</td>\n",
       "      <td>44.0</td>\n",
       "    </tr>\n",
       "    <tr>\n",
       "      <th>4</th>\n",
       "      <td>5</td>\n",
       "      <td>2013</td>\n",
       "      <td>1</td>\n",
       "      <td>1</td>\n",
       "      <td>554.0</td>\n",
       "      <td>-6.0</td>\n",
       "      <td>812.0</td>\n",
       "      <td>-25.0</td>\n",
       "      <td>DL</td>\n",
       "      <td>N668DN</td>\n",
       "      <td>461</td>\n",
       "      <td>LGA</td>\n",
       "      <td>ATL</td>\n",
       "      <td>116.0</td>\n",
       "      <td>762</td>\n",
       "      <td>5.0</td>\n",
       "      <td>54.0</td>\n",
       "    </tr>\n",
       "  </tbody>\n",
       "</table>\n",
       "</div>"
      ],
      "text/plain": [
       "   Unnamed: 0  year  month  day  dep_time  dep_delay  arr_time  arr_delay  \\\n",
       "0           1  2013      1    1     517.0        2.0     830.0       11.0   \n",
       "1           2  2013      1    1     533.0        4.0     850.0       20.0   \n",
       "2           3  2013      1    1     542.0        2.0     923.0       33.0   \n",
       "3           4  2013      1    1     544.0       -1.0    1004.0      -18.0   \n",
       "4           5  2013      1    1     554.0       -6.0     812.0      -25.0   \n",
       "\n",
       "  carrier tailnum  flight origin dest  air_time  distance  hour  minute  \n",
       "0      UA  N14228    1545    EWR  IAH     227.0      1400   5.0    17.0  \n",
       "1      UA  N24211    1714    LGA  IAH     227.0      1416   5.0    33.0  \n",
       "2      AA  N619AA    1141    JFK  MIA     160.0      1089   5.0    42.0  \n",
       "3      B6  N804JB     725    JFK  BQN     183.0      1576   5.0    44.0  \n",
       "4      DL  N668DN     461    LGA  ATL     116.0       762   5.0    54.0  "
      ]
     },
     "execution_count": 6,
     "metadata": {},
     "output_type": "execute_result"
    }
   ],
   "source": [
    "\n",
    "flights_df.head(5)"
   ]
  },
  {
   "cell_type": "markdown",
   "metadata": {},
   "source": [
    "Let’s explore flights from NYC to Seattle. Use the flights dataset to answer the following questions.\n",
    "\n",
    "(a) How many flights were there from NYC airports to Seattle in 2013?"
   ]
  },
  {
   "cell_type": "code",
   "execution_count": 7,
   "metadata": {},
   "outputs": [
    {
     "data": {
      "text/plain": [
       "3923"
      ]
     },
     "execution_count": 7,
     "metadata": {},
     "output_type": "execute_result"
    }
   ],
   "source": [
    "# Your code here\n",
    "dest_seattle = flights_df['dest']=='SEA'\n",
    "len(flights_df[dest_seattle])"
   ]
  },
  {
   "cell_type": "markdown",
   "metadata": {},
   "source": [
    "There were 3923 flights from NYC to Seattle in 2013"
   ]
  },
  {
   "cell_type": "markdown",
   "metadata": {},
   "source": [
    "(b) How many airlines fly from NYC to Seattle?"
   ]
  },
  {
   "cell_type": "code",
   "execution_count": 8,
   "metadata": {},
   "outputs": [
    {
     "data": {
      "text/plain": [
       "5"
      ]
     },
     "execution_count": 8,
     "metadata": {},
     "output_type": "execute_result"
    }
   ],
   "source": [
    "flights_seattle_df = flights_df[dest_seattle]\n",
    "len(flights_seattle_df['carrier'].unique())"
   ]
  },
  {
   "cell_type": "markdown",
   "metadata": {},
   "source": [
    "There are 5 airlines that fly from NYC to Seattle."
   ]
  },
  {
   "cell_type": "markdown",
   "metadata": {},
   "source": [
    "(c) How many unique air planes fly from NYC to Seattle?"
   ]
  },
  {
   "cell_type": "code",
   "execution_count": 9,
   "metadata": {},
   "outputs": [
    {
     "data": {
      "text/plain": [
       "935"
      ]
     },
     "execution_count": 9,
     "metadata": {},
     "output_type": "execute_result"
    }
   ],
   "source": [
    "flights_seattle_df['tailnum'].nunique()"
   ]
  },
  {
   "cell_type": "markdown",
   "metadata": {},
   "source": [
    "There are 935 uniqre air planes from NYC to Seattle"
   ]
  },
  {
   "cell_type": "markdown",
   "metadata": {},
   "source": [
    "(d) What is the average arrival delay for flights from NC to Seattle?"
   ]
  },
  {
   "cell_type": "code",
   "execution_count": 10,
   "metadata": {},
   "outputs": [
    {
     "data": {
      "text/plain": [
       "-1.0990990990990992"
      ]
     },
     "execution_count": 10,
     "metadata": {},
     "output_type": "execute_result"
    }
   ],
   "source": [
    "flights_seattle_df['arr_delay'].mean()"
   ]
  },
  {
   "cell_type": "markdown",
   "metadata": {},
   "source": [
    "-1.0990990990990992 is the average arrival delay for flights from NYC to Seattle i.e on an average, the flights arrive about a minute early."
   ]
  },
  {
   "cell_type": "markdown",
   "metadata": {},
   "source": [
    "What proportion of flights to Seattle come from each NYC airport?"
   ]
  },
  {
   "cell_type": "code",
   "execution_count": 11,
   "metadata": {},
   "outputs": [
    {
     "name": "stdout",
     "output_type": "stream",
     "text": [
      "origin\n",
      "EWR    0.466735\n",
      "JFK    0.533265\n",
      "dtype: float64\n"
     ]
    }
   ],
   "source": [
    "print(flights_seattle_df.groupby('origin').size()/flights_seattle_df['flight'].count())"
   ]
  },
  {
   "cell_type": "markdown",
   "metadata": {},
   "source": [
    "The proportion of flights from EWR and JFK is 0.47 and 0.53 i.e 47% and 53% respectively."
   ]
  },
  {
   "cell_type": "markdown",
   "metadata": {},
   "source": [
    "Flights are often delayed. Consider the following questions exploring delay patterns.\n",
    "\n",
    "(a) Which date has the largest average departure delay? Which date has the largest average arrival delay?"
   ]
  },
  {
   "cell_type": "code",
   "execution_count": 12,
   "metadata": {},
   "outputs": [
    {
     "name": "stdout",
     "output_type": "stream",
     "text": [
      "    month  day  dep_delay\n",
      "66      3    8  83.536921\n",
      "    month  day  arr_delay\n",
      "66      3    8  85.862155\n"
     ]
    }
   ],
   "source": [
    "flights_grp_dd_df = flights_df.groupby(['month','day'],as_index = False).agg({'dep_delay':'mean'})\n",
    "max_dep_delay = flights_grp_dd_df['dep_delay'].max()\n",
    "print(flights_grp_dd_df[flights_grp_dd_df['dep_delay']== max_dep_delay])\n",
    "\n",
    "flights_grp_ad_df = flights_df.groupby(['month','day'],as_index = False).agg({'arr_delay':'mean'})\n",
    "max_arr_delay = flights_grp_ad_df['arr_delay'].max()\n",
    "print(flights_grp_ad_df[flights_grp_ad_df['arr_delay']== max_arr_delay])"
   ]
  },
  {
   "cell_type": "markdown",
   "metadata": {},
   "source": [
    "The largest average departure(83.5369 min) and arrival delay(85.8622) was on 8th of March 2013"
   ]
  },
  {
   "cell_type": "markdown",
   "metadata": {},
   "source": [
    "(b) What was the worst day to fly out of NYC in 2013 if you dislike delayed flights?\n"
   ]
  },
  {
   "cell_type": "code",
   "execution_count": 13,
   "metadata": {},
   "outputs": [
    {
     "name": "stdout",
     "output_type": "stream",
     "text": [
      "     month  day  flight\n",
      "356     12   23     674\n"
     ]
    }
   ],
   "source": [
    "#Worst day is the day with maximum number of delayed flights(flights with positive departure delay)\n",
    "\n",
    "flights_grp_dd_df = flights_df[flights_df['dep_delay']>0].groupby(['month','day'],as_index = False).agg({'flight':'count'})\n",
    "#print(flights_grp_dd_df)\n",
    "\n",
    "max_delayed_flights = flights_grp_dd_df['flight'].max()\n",
    "print(flights_grp_dd_df[flights_grp_dd_df['flight']  == max_delayed_flights])"
   ]
  },
  {
   "cell_type": "markdown",
   "metadata": {},
   "source": [
    "Worst day to fly out of NYC in 2013 was 23rd of December with 674 flights having a delayed departure from NYC."
   ]
  },
  {
   "cell_type": "markdown",
   "metadata": {},
   "source": [
    "(c) Are there any seasonal patterns in departure delays for flights from NYC?"
   ]
  },
  {
   "cell_type": "code",
   "execution_count": 14,
   "metadata": {},
   "outputs": [
    {
     "data": {
      "image/png": "[encoded data removed]",
      "text/plain": [
       "<Figure size 432x288 with 1 Axes>"
      ]
     },
     "metadata": {
      "needs_background": "light"
     },
     "output_type": "display_data"
    }
   ],
   "source": [
    "delay_mon_grp = flights_df.groupby(['month'],as_index = False).agg({'dep_delay':'mean'})\n",
    "delay_mon_grp['dep_delay'].plot()\n",
    "plt.xlabel('Month')\n",
    "plt.ylabel('Mean departure delay')\n",
    "plt.show()\n"
   ]
  },
  {
   "cell_type": "markdown",
   "metadata": {},
   "source": [
    "The departure delays shoot up during summer season (May,June) and go up again during the holiday season (Nov,Dec). The delays are compartively very during the months of August to October."
   ]
  },
  {
   "cell_type": "markdown",
   "metadata": {},
   "source": [
    "(d) On average, how do departure delays vary over the course of a day?"
   ]
  },
  {
   "cell_type": "code",
   "execution_count": 15,
   "metadata": {},
   "outputs": [
    {
     "data": {
      "image/png": "[encoded data removed]",
      "text/plain": [
       "<Figure size 432x288 with 1 Axes>"
      ]
     },
     "metadata": {
      "needs_background": "light"
     },
     "output_type": "display_data"
    }
   ],
   "source": [
    "#flights_df = pd.read_csv('flights.csv')\n",
    "flights_df.loc[flights_df.hour == 24 ,'hour'] = 0\n",
    "delay_grp = flights_df.groupby(['hour'],as_index = False).agg({'dep_delay':'mean'})\n",
    "delay_grp['dep_delay'].plot()\n",
    "plt.xlabel('Hour')\n",
    "plt.ylabel('Mean departure delay')\n",
    "plt.show()\n",
    "\n",
    "#flights_df['dep_delay'].hist(by=flights_df['hour'])"
   ]
  },
  {
   "cell_type": "markdown",
   "metadata": {},
   "source": [
    "On an average, the departure delays are at a peak during about 3 am in the morning and again 23 pm at night, there is a small peak."
   ]
  },
  {
   "cell_type": "markdown",
   "metadata": {},
   "source": [
    "Which flight departing NYC in 2013 flew the fastest?"
   ]
  },
  {
   "cell_type": "code",
   "execution_count": 16,
   "metadata": {},
   "outputs": [
    {
     "data": {
      "text/html": [
       "<div>\n",
       "<style scoped>\n",
       "    .dataframe tbody tr th:only-of-type {\n",
       "        vertical-align: middle;\n",
       "    }\n",
       "\n",
       "    .dataframe tbody tr th {\n",
       "        vertical-align: top;\n",
       "    }\n",
       "\n",
       "    .dataframe thead th {\n",
       "        text-align: right;\n",
       "    }\n",
       "</style>\n",
       "<table border=\"1\" class=\"dataframe\">\n",
       "  <thead>\n",
       "    <tr style=\"text-align: right;\">\n",
       "      <th></th>\n",
       "      <th>Unnamed: 0</th>\n",
       "      <th>year</th>\n",
       "      <th>month</th>\n",
       "      <th>day</th>\n",
       "      <th>dep_time</th>\n",
       "      <th>dep_delay</th>\n",
       "      <th>arr_time</th>\n",
       "      <th>arr_delay</th>\n",
       "      <th>carrier</th>\n",
       "      <th>tailnum</th>\n",
       "      <th>flight</th>\n",
       "      <th>origin</th>\n",
       "      <th>dest</th>\n",
       "      <th>air_time</th>\n",
       "      <th>distance</th>\n",
       "      <th>hour</th>\n",
       "      <th>minute</th>\n",
       "      <th>speed</th>\n",
       "    </tr>\n",
       "  </thead>\n",
       "  <tbody>\n",
       "    <tr>\n",
       "      <th>216447</th>\n",
       "      <td>216448</td>\n",
       "      <td>2013</td>\n",
       "      <td>5</td>\n",
       "      <td>25</td>\n",
       "      <td>1709.0</td>\n",
       "      <td>9.0</td>\n",
       "      <td>1923.0</td>\n",
       "      <td>-14.0</td>\n",
       "      <td>DL</td>\n",
       "      <td>N666DN</td>\n",
       "      <td>1499</td>\n",
       "      <td>LGA</td>\n",
       "      <td>ATL</td>\n",
       "      <td>65.0</td>\n",
       "      <td>762</td>\n",
       "      <td>17.0</td>\n",
       "      <td>9.0</td>\n",
       "      <td>703.384615</td>\n",
       "    </tr>\n",
       "  </tbody>\n",
       "</table>\n",
       "</div>"
      ],
      "text/plain": [
       "        Unnamed: 0  year  month  day  dep_time  dep_delay  arr_time  \\\n",
       "216447      216448  2013      5   25    1709.0        9.0    1923.0   \n",
       "\n",
       "        arr_delay carrier tailnum  flight origin dest  air_time  distance  \\\n",
       "216447      -14.0      DL  N666DN    1499    LGA  ATL      65.0       762   \n",
       "\n",
       "        hour  minute       speed  \n",
       "216447  17.0     9.0  703.384615  "
      ]
     },
     "execution_count": 16,
     "metadata": {},
     "output_type": "execute_result"
    }
   ],
   "source": [
    "# Fastest flight = Flight details with the max speed\n",
    "# Speed = distance/time = distance in miles/airtime in hr = distance in miles/(airtime in min/60)\n",
    "flights_df['speed'] = flights_df.distance/(flights_df.air_time/60)\n",
    "max_speed = max(flights_df['speed'])\n",
    "flights_df[flights_df['speed']== max_speed]"
   ]
  },
  {
   "cell_type": "markdown",
   "metadata": {},
   "source": [
    "The fastest flight (Flight no - 1499, Tailnum - N666DN) flew from LGA to ATL on 25th of May at 5 pm with a speed of 703.38 miles/hr."
   ]
  },
  {
   "cell_type": "markdown",
   "metadata": {},
   "source": [
    "Which flights (i.e. carrier + flight + dest) happen every day? Where do they fly to?"
   ]
  },
  {
   "cell_type": "code",
   "execution_count": 17,
   "metadata": {},
   "outputs": [
    {
     "name": "stdout",
     "output_type": "stream",
     "text": [
      "18\n",
      "['HNL' 'SFO' 'LAX' 'CLT' 'LAS' 'BUR' 'FLL' 'SRQ' 'SJU' 'MIA' 'MCO' 'TPA'\n",
      " 'IAD']\n"
     ]
    }
   ],
   "source": [
    "#To find the carrier+flight+dest combination which flies every day of the year. Also find the destination of the flight.\n",
    "flights_df['unique_day'] = pd.factorize(flights_df.month+flights_df.day)[0]\n",
    "flights_count_df = flights_df.groupby(['flight','carrier','dest'],as_index = False).agg({'unique_day':'count'})\n",
    "print(len(flights_count_df[flights_count_df['unique_day']>=365]))\n",
    "print(flights_count_df[flights_count_df['unique_day']>=365].dest.unique())"
   ]
  },
  {
   "cell_type": "markdown",
   "metadata": {},
   "source": [
    "There are 18 flights which fly every day. They fly to 'HNL' 'SFO' 'LAX' 'CLT' 'LAS' 'BUR' 'FLL' 'SRQ' 'SJU' 'MIA' 'MCO' 'TPA'\n",
    " 'IAD'"
   ]
  },
  {
   "cell_type": "markdown",
   "metadata": {},
   "source": [
    "Develop one research question you can address using the nycflights2013 dataset. Provide two visualizations to support your exploration of this question. Discuss what you find.\n"
   ]
  },
  {
   "cell_type": "code",
   "execution_count": 18,
   "metadata": {},
   "outputs": [
    {
     "name": "stdout",
     "output_type": "stream",
     "text": [
      "  carrier  dep_delay\n",
      "0      AA  10.041551\n",
      "1      AS   5.804775\n",
      "2      B6  11.592593\n",
      "3      DL   7.391376\n",
      "4      UA  17.315647\n"
     ]
    },
    {
     "data": {
      "image/png": "[encoded data removed]",
      "text/plain": [
       "<Figure size 360x360 with 1 Axes>"
      ]
     },
     "metadata": {
      "needs_background": "light"
     },
     "output_type": "display_data"
    },
    {
     "name": "stdout",
     "output_type": "stream",
     "text": [
      "  carrier  arr_delay\n",
      "0      AA  -1.475000\n",
      "1      AS  -9.930889\n",
      "2      B6   7.721248\n",
      "3      DL  -5.886023\n",
      "4      UA   5.827430\n"
     ]
    },
    {
     "data": {
      "image/png": "[encoded data removed]",
      "text/plain": [
       "<Figure size 360x360 with 1 Axes>"
      ]
     },
     "metadata": {
      "needs_background": "light"
     },
     "output_type": "display_data"
    }
   ],
   "source": [
    "flights_speed_dep_df = flights_seattle_df.groupby(['carrier'],as_index = False).agg({'dep_delay':'mean'})\n",
    "print(flights_speed_dep_df)\n",
    "flights_speed_dep_df.plot(kind='bar', title =\"Speed of Carriers from New York to Seattle\",figsize=(5,5),legend=True, fontsize=12)\n",
    "plt.xlabel('Carrier')\n",
    "plt.ylabel('Mean Departure Delay')\n",
    "plt.show()\n",
    "plt.close()\n",
    "\n",
    "flights_speed_arr_df = flights_seattle_df.groupby(['carrier'],as_index = False).agg({'arr_delay':'mean'})\n",
    "print(flights_speed_arr_df)\n",
    "flights_speed_arr_df.plot(kind='bar', title =\"Speed of Carriers from New York to Seattle\",figsize=(5,5),legend=True, fontsize=12)\n",
    "plt.xlabel('Carrier')\n",
    "plt.ylabel('Mean Arrival Delay')\n",
    "plt.show()\n",
    "plt.close()"
   ]
  },
  {
   "cell_type": "markdown",
   "metadata": {},
   "source": [
    "The research question is \n",
    "\"Among the flights that fly to Seattle, on an average how does the departure & arrival delay look like for every carrier? Do you see a specific carrier which has a very high average?\"\n",
    "\n",
    "From the bar graph, we see that United Airlines has the highest average departure delay to Seattle. Also, Alaska Airlines has the least average departure delay of all.\n",
    "\n",
    "From the bar graph, we see that JetBlue has the highest average arrival delay to Seattle while Alaska Airlines has a negative average, implying that on an average, Alaskan Airlines arrive earlier than expected.\n",
    "\n",
    "Thus from this analysis, we can say that Alaskan Airlines fares the best in terms of average delays to Seattle, if you dislike delayed flights."
   ]
  },
  {
   "cell_type": "markdown",
   "metadata": {},
   "source": [
    "What weather conditions are associated with flight delays leaving NYC? Use graphics to explore."
   ]
  },
  {
   "cell_type": "code",
   "execution_count": 19,
   "metadata": {},
   "outputs": [
    {
     "name": "stdout",
     "output_type": "stream",
     "text": [
      "Index(['month', 'day', 'dep_delay', 'temp', 'humid', 'visib', 'dewp',\n",
      "       'wind_dir', 'wind_speed', 'wind_gust', 'precip', 'pressure'],\n",
      "      dtype='object')\n"
     ]
    },
    {
     "data": {
      "image/png": "[encoded data removed]",
      "text/plain": [
       "<Figure size 432x288 with 1 Axes>"
      ]
     },
     "metadata": {
      "needs_background": "light"
     },
     "output_type": "display_data"
    },
    {
     "data": {
      "image/png": "[encoded data removed]",
      "text/plain": [
       "<Figure size 432x288 with 1 Axes>"
      ]
     },
     "metadata": {
      "needs_background": "light"
     },
     "output_type": "display_data"
    },
    {
     "data": {
      "image/png": "[encoded data removed]",
      "text/plain": [
       "<Figure size 432x288 with 1 Axes>"
      ]
     },
     "metadata": {
      "needs_background": "light"
     },
     "output_type": "display_data"
    },
    {
     "data": {
      "image/png": "[encoded data removed]",
      "text/plain": [
       "<Figure size 432x288 with 1 Axes>"
      ]
     },
     "metadata": {
      "needs_background": "light"
     },
     "output_type": "display_data"
    },
    {
     "data": {
      "image/png": "[encoded data removed]",
      "text/plain": [
       "<Figure size 432x288 with 1 Axes>"
      ]
     },
     "metadata": {
      "needs_background": "light"
     },
     "output_type": "display_data"
    }
   ],
   "source": [
    "weather_df = pd.read_csv('weather.csv')\n",
    "weather_df\n",
    "combined_df = pd.merge(flights_df,weather_df, how = 'left', on = ['origin','year','month','day','hour'])\n",
    "#print(combined_df.head())\n",
    "combined_df = combined_df[['month','day','dep_delay','temp','humid','visib','dewp','wind_dir','wind_speed','wind_gust','precip','pressure']]\n",
    "wea_temp_day_df = combined_df.groupby(['month','day'],as_index = False).agg({'dep_delay':'mean','temp':'mean','humid':'mean','visib':'mean','dewp':'mean','wind_dir':'mean','wind_speed':'mean','wind_gust':'mean','precip':'mean','pressure':'mean'})\n",
    "print(wea_temp_day_df.columns)\n",
    "\n",
    "plt.scatter(wea_temp_day_df['humid'], wea_temp_day_df['dep_delay'])\n",
    "plt.xlabel('Humidity')\n",
    "plt.ylabel('Mean Departure delay')\n",
    "plt.show()\n",
    "plt.close()\n",
    "\n",
    "plt.scatter(wea_temp_day_df['dewp'], wea_temp_day_df['dep_delay'])\n",
    "plt.xlabel('Dew')\n",
    "plt.ylabel('Mean Departure delay')\n",
    "plt.show()\n",
    "plt.close()\n",
    "\n",
    "plt.scatter(wea_temp_day_df['precip'], wea_temp_day_df['dep_delay'])\n",
    "plt.xlabel('Precipitation')\n",
    "plt.ylabel('Mean Departure delay')\n",
    "plt.show()\n",
    "plt.close()\n",
    "\n",
    "\n",
    "plt.scatter(wea_temp_day_df['visib'], wea_temp_day_df['dep_delay'])\n",
    "plt.xlabel('Visibility')\n",
    "plt.ylabel('Mean Departure delay')\n",
    "plt.show()\n",
    "plt.close()\n",
    "\n",
    "plt.scatter(wea_temp_day_df['pressure'], wea_temp_day_df['dep_delay'])\n",
    "plt.xlabel('Pressure')\n",
    "plt.ylabel('Mean Departure delay')\n",
    "plt.show()\n",
    "plt.close()\n",
    "\n",
    "\n"
   ]
  },
  {
   "cell_type": "markdown",
   "metadata": {},
   "source": [
    "There seems to be a positive correlation between humidity(0.478), dew(0.324), precipitation(0.374) and departure delay i.e. higher the humidity, dew, precipitation levels, greater is the departure delay. \n",
    "Also, there is a negative correlation between visibility(-0.432) and pressure(-0.286) i.e. higher the visibility/pressure, lower is the departure delay. However, none of the weather attributes show very strong correlation with departure delay"
   ]
  },
  {
   "cell_type": "code",
   "execution_count": null,
   "metadata": {},
   "outputs": [],
   "source": []
  }
 ],
 "metadata": {
  "kernelspec": {
   "display_name": "Python 3 (ipykernel)",
   "language": "python",
   "name": "python3"
  },
  "language_info": {
   "codemirror_mode": {
    "name": "ipython",
    "version": 3
   },
   "file_extension": ".py",
   "mimetype": "text/x-python",
   "name": "python",
   "nbconvert_exporter": "python",
   "pygments_lexer": "ipython3",
   "version": "3.9.7"
  }
 },
 "nbformat": 4,
 "nbformat_minor": 1
}
